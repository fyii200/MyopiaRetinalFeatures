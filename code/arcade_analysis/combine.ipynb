{
 "cells": [
  {
   "cell_type": "code",
   "execution_count": null,
   "id": "440e53b5",
   "metadata": {},
   "outputs": [],
   "source": [
    "# ! pip install constrainedlr"
   ]
  },
  {
   "cell_type": "code",
   "execution_count": 512,
   "id": "2c22e889",
   "metadata": {},
   "outputs": [],
   "source": [
    "import cv2 as cv\n",
    "import seaborn as sns\n",
    "import shutil\n",
    "import time\n",
    "import scipy\n",
    "import os\n",
    "import glob\n",
    "import pandas as pd\n",
    "from tqdm import tqdm \n",
    "import matplotlib.pyplot as plt\n",
    "import numpy as np\n",
    "from skimage.morphology import skeletonize\n",
    "from skimage import morphology as morph\n",
    "from scipy.optimize import curve_fit, least_squares\n",
    "from sklearn.metrics import mean_squared_error\n",
    "from sklearn.linear_model import RANSACRegressor, LinearRegression\n",
    "from skimage.transform import hough_circle, hough_circle_peaks\n",
    "from skimage.feature import canny\n",
    "from sklearn.preprocessing import PolynomialFeatures\n",
    "from skimage.morphology import footprints, disk\n",
    "\n",
    "from constrainedlr.model import ConstrainedLinearRegression\n",
    "\n",
    "join = os.path.join\n",
    "\n",
    "homeDir = \"/Users/fabianyii/Desktop/masks/\"\n",
    "d1 = pd.read_csv(join(homeDir,\"OD_fovea_parameters.csv\"))\n",
    "d2 = pd.read_csv(join(homeDir,\"fovea_intensity_data.csv\"))\n",
    "d2 = d2.rename(columns={'fundus': 'name'})\n",
    "d = pd.merge(d1, d2, left_on='name', right_on='name')\n",
    "names = list(d.name)"
   ]
  },
  {
   "cell_type": "code",
   "execution_count": null,
   "id": "64b14bab",
   "metadata": {},
   "outputs": [],
   "source": [
    "\n"
   ]
  },
  {
   "cell_type": "code",
   "execution_count": null,
   "id": "0e728922",
   "metadata": {},
   "outputs": [],
   "source": [
    "\n"
   ]
  },
  {
   "cell_type": "code",
   "execution_count": 2,
   "id": "c62f9b05",
   "metadata": {},
   "outputs": [],
   "source": [
    "# vessel = \"artery\"\n",
    "# subtype = \"process\"\n",
    "# # folder = vessel + \"_binary_\" + subtype\n",
    "# folder = \"resized\"\n",
    "\n",
    "# old_filepaths_1 = sorted(glob.glob(join(\"individuals\", \"artery_vein_1\", folder, '*.png')))\n",
    "# old_filepaths_2 = sorted(glob.glob(join(\"individuals\", \"artery_vein_2\", folder, '*.png')))\n",
    "# old_filepaths_3 = sorted(glob.glob(join(\"individuals\", \"artery_vein_3\", folder, '*.png')))\n",
    "# old_filepaths_4 = sorted(glob.glob(join(\"individuals\", \"artery_vein_4\", folder, '*.png')))\n",
    "# old_filepaths_5 = sorted(glob.glob(join(\"individuals\", \"artery_vein_5\", folder, '*.png')))\n",
    "\n",
    "# new_path = join(\"artery_vein\", \"show_both\")"
   ]
  },
  {
   "cell_type": "code",
   "execution_count": 3,
   "id": "11c571a9",
   "metadata": {},
   "outputs": [],
   "source": [
    "# for old_path in tqdm(old_filepaths_1):\n",
    "#     shutil.move(old_path, new_path)\n",
    "# for old_path in tqdm(old_filepaths_2):\n",
    "#     shutil.move(old_path, new_path)   \n",
    "# for old_path in tqdm(old_filepaths_3):\n",
    "#     shutil.move(old_path, new_path)\n",
    "# for old_path in tqdm(old_filepaths_4):\n",
    "#     shutil.move(old_path, new_path)\n",
    "# for old_path in tqdm(old_filepaths_5):\n",
    "#     shutil.move(old_path, new_path)    "
   ]
  },
  {
   "cell_type": "code",
   "execution_count": 4,
   "id": "cc4711cd",
   "metadata": {},
   "outputs": [],
   "source": [
    "# d1 = pd.read_csv('/Users/fabianyii/Desktop/feature_measurement_1/Combined_Vessel_Measurement.csv')\n",
    "# d2 = pd.read_csv('/Users/fabianyii/Desktop/feature_measurement_2/Combined_Vessel_Measurement.csv')\n",
    "# d3 = pd.read_csv('/Users/fabianyii/Desktop/feature_measurement_3/Combined_Vessel_Measurement.csv')\n",
    "# d4 = pd.read_csv('/Users/fabianyii/Desktop/feature_measurement_4/Combined_Vessel_Measurement.csv')\n",
    "# d5 = pd.read_csv('/Users/fabianyii/Desktop/feature_measurement_5/Combined_Vessel_Measurement.csv')\n",
    "# combined = pd.concat([d1, d2, d3, d4, d5], ignore_index=True)\n",
    "# combined.to_csv('/Users/fabianyii/Desktop/Combined_Vessel_Measurement.csv', index=False)"
   ]
  },
  {
   "cell_type": "markdown",
   "id": "521d952f",
   "metadata": {},
   "source": [
    "### Arcade analysis"
   ]
  },
  {
   "cell_type": "code",
   "execution_count": 1556,
   "id": "23af808e",
   "metadata": {},
   "outputs": [
    {
     "data": {
      "text/plain": [
       "'2448035_21015_0_0.png'"
      ]
     },
     "execution_count": 1556,
     "metadata": {},
     "output_type": "execute_result"
    }
   ],
   "source": [
    "# name = names[347] # low hyperopia +1.00\n",
    "# name = list(d[d.SER < -10].name)[72] # high myopia; ransac robust to outlier\n",
    "# name = list(d[d.SER > 8].name)[92] # high hyperopia; ransac robust to outlier\n",
    "# name = list(d[d.SER < -15].name)[14] # high myopia straight arcade\n",
    "name = list(d[d.SER < -15].name)[18] # high myopia straight arcade\n",
    "# name = list(d[d.SER > 5].name)[59] # high hyperopia parabolic\n",
    "# name = list(d[d.SER < -5].name)[21] # high hyperopia \n",
    "name"
   ]
  },
  {
   "cell_type": "code",
   "execution_count": 1557,
   "id": "a5fc7906",
   "metadata": {},
   "outputs": [
    {
     "name": "stdout",
     "output_type": "stream",
     "text": [
      "#### RANSAC parabola : Excluded 272 outliers out of 961 vessel pixels ####\n",
      "Concavity index: 0.0016\n",
      "Top median residual: 15.5079\n",
      "Bottom median residual: 13.8355\n",
      "Median residual: 17.8568\n",
      "R2: 0.9255\n"
     ]
    }
   ],
   "source": [
    "\n",
    "!python main.py --image_name '2448035_21015_0_0.png' --show_preprocessing --show_ransac_parabola --fit_verbose --mark_vertex --vessel_path '/Users/fabianyii/Desktop/masks/artery_vein/vein/full_width'\n"
   ]
  },
  {
   "cell_type": "code",
   "execution_count": 382,
   "id": "47fc159c",
   "metadata": {},
   "outputs": [],
   "source": [
    "\n",
    "# python code/main.py --parallelisation --show_preprocessing --show_ransac_parabola --save_fig\n"
   ]
  },
  {
   "cell_type": "code",
   "execution_count": null,
   "id": "4217b575",
   "metadata": {},
   "outputs": [],
   "source": []
  },
  {
   "cell_type": "code",
   "execution_count": null,
   "id": "69b7f01a",
   "metadata": {},
   "outputs": [],
   "source": []
  },
  {
   "cell_type": "code",
   "execution_count": null,
   "id": "6315738e",
   "metadata": {},
   "outputs": [],
   "source": []
  },
  {
   "cell_type": "code",
   "execution_count": null,
   "id": "0cdfcf1a",
   "metadata": {},
   "outputs": [],
   "source": []
  },
  {
   "cell_type": "code",
   "execution_count": null,
   "id": "7ae246dc",
   "metadata": {},
   "outputs": [],
   "source": [
    "name = list(d[d.SER < -5].name)[19] # high hyperopia "
   ]
  },
  {
   "cell_type": "code",
   "execution_count": 1558,
   "id": "9d254563",
   "metadata": {},
   "outputs": [],
   "source": [
    "def vessel_pixel_coordinates(mask):\n",
    "    # Get foreground (i.e. vessel) pixel coordinates \n",
    "    boolean_array = np.where(mask > 0)\n",
    "    coords = np.flip(np.column_stack(boolean_array), axis=1)\n",
    "    return coords    \n",
    "\n",
    "def rotate_image(image, angle):\n",
    "    image_center = tuple(np.array(image.shape[1::-1]) / 2)\n",
    "    rot_mat = cv.getRotationMatrix2D(image_center, angle, 1.0)\n",
    "    result = cv.warpAffine(image, rot_mat, image.shape[1::-1], flags=cv.INTER_LINEAR)\n",
    "    return result"
   ]
  },
  {
   "cell_type": "code",
   "execution_count": 1560,
   "id": "50a2c5f7",
   "metadata": {},
   "outputs": [
    {
     "data": {
      "image/png": "[encoded data removed]",
      "text/plain": [
       "<Figure size 640x480 with 1 Axes>"
      ]
     },
     "metadata": {},
     "output_type": "display_data"
    }
   ],
   "source": [
    "import math\n",
    "import imutils\n",
    "from preprocess import arcade_detector\n",
    "from arcade_model import parabola_ls, RANSAC\n",
    "vessel_path = join(homeDir, \"artery_vein\", \"vein\", \"full_width\")\n",
    "vessel = arcade_detector(name, vessel_path)\n",
    "\n",
    "ori = vessel.mask\n",
    "# angle = list(d[d.name == name].vertical_angle)[0]\n",
    "# vessel.rotate_image(angle)\n",
    "\n",
    "resize_ratio_width = vessel.size()[1] / 560\n",
    "resize_ratio_height = vessel.size()[0] / 560\n",
    "disc_x = np.float16(d[d.name == name].disc_x)[0] * resize_ratio_width\n",
    "disc_y = np.float16(d[d.name == name].disc_y)[0] * resize_ratio_height\n",
    "vessel.crop_around_disc(disc_x, disc_y)\n",
    "s1 = vessel.mask\n",
    "# fovea_x = list(d[d.name==name].fovea_x)[0] * resize_ratio_width\n",
    "# fovea_y = list(d[d.name==name].fovea_y)[0] * resize_ratio_height\n",
    "# vessel.crop_to_fovea(disc_x, disc_y, fovea_x, fovea_y, 50)\n",
    "vessel.dist_transform()\n",
    "s2 = vessel.mask\n",
    "vessel.area_opening()\n",
    "s3 = vessel.mask\n",
    "vessel.detect_parabola()\n",
    "s4 = vessel.mask\n",
    "vessel.area_opening()\n",
    "s5 = vessel.mask\n",
    "vessel.rectangular_closing()\n",
    "s6 = vessel.mask\n",
    "vessel.skeleton()\n",
    "s7 = vessel.mask\n",
    "\n",
    "skeleton = np.uint8(vessel.mask*255)\n",
    "\n",
    "vessel.view()\n"
   ]
  },
  {
   "cell_type": "code",
   "execution_count": 1564,
   "id": "50285512",
   "metadata": {},
   "outputs": [],
   "source": [
    "class parabola(arcade_detector):\n",
    "        def __init__(self, vertex_x, vertex_y):\n",
    "            self.vertex_x = vertex_x\n",
    "            self.vertex_y = vertex_y\n",
    "            \n",
    "        def quadratic_vertex_equation(self, y, concavity):\n",
    "            # Quadratic function in vertex form\n",
    "            return concavity*(y - self.vertex_y)**2 + self.vertex_x\n",
    "        \n",
    "        def fit(self, y, x):\n",
    "            self.coefficients, _ = curve_fit(self.quadratic_vertex_equation, y, x, maxfev=1000)\n",
    "            return self.coefficients\n",
    "            \n",
    "        def predict(self, y_input):\n",
    "            return self.quadratic_vertex_equation(y_input, *self.coefficients)\n",
    "        \n",
    "        \n",
    "class RANSAC(arcade_detector):\n",
    "    def __init__(self, mask):\n",
    "        self.mask = mask\n",
    "        self.quadratic = PolynomialFeatures(degree=2)\n",
    "          \n",
    "###################### Parabola ########################\n",
    "    def fit_full_parabola(self):\n",
    "        # Get vessel coordinates\n",
    "        coords = vessel_pixel_coordinates(self.mask)\n",
    "        self.x = coords[:,0]\n",
    "        self.y = coords[:,1]\n",
    "        self.x_reshaped = self.x.reshape((-1, 1))\n",
    "        self.y_reshaped = self.y.reshape((-1, 1))            \n",
    "        self.y_quadratic_trans = self.quadratic.fit_transform(self.y_reshaped)\n",
    "        self.full_parabola = RANSACRegressor(LinearRegression(fit_intercept=False), min_samples=10)\n",
    "        self.full_parabola.fit(self.y_quadratic_trans, self.x_reshaped)\n",
    "        # get coefficients\n",
    "        self.c = self.full_parabola.estimator_.coef_[0, 0] \n",
    "        self.b = self.full_parabola.estimator_.coef_[0, 1] \n",
    "        self.concavity = self.full_parabola.estimator_.coef_[0, 2]  \n",
    "        self.vertex_x, self.vertex_y = self.get_parabola_vertex(self.b, self.c, self.concavity)\n",
    "\n",
    "    def fit_top_parabola(self):\n",
    "        # Get top segment (include only inliers)\n",
    "        top_seg = self.mask[0:round(disc_y),:]\n",
    "        top_coords = vessel_pixel_coordinates(top_seg)\n",
    "        top_inliers = self.full_parabola.inlier_mask_[0:len(top_coords)]\n",
    "        self.top_seg_inliers = top_seg.copy()\n",
    "        self.top_seg_inliers[self.top_seg_inliers > 0] = top_seg[top_seg > 0] * np.uint8(top_inliers)\n",
    "        # Vertically flip it and combine it with the original top segment \n",
    "        top_seg_flipped = cv.flip(self.top_seg_inliers, 0)\n",
    "        self.top_mask = np.concatenate((self.top_seg_inliers, top_seg_flipped))\n",
    "        # Get the coordinates of the inliers\n",
    "        coords = vessel_pixel_coordinates(self.top_mask)\n",
    "        x_top = coords[:,0]\n",
    "        y_top = coords[:,1]\n",
    "        # Fit top segment\n",
    "        origin_x = disc_x*(450/912)\n",
    "        self.parabola_top = parabola(self.vertex_x, self.top_mask.shape[0]/2)\n",
    "        self.coef_top = self.parabola_top.fit(y_top, x_top)  \n",
    "\n",
    "    def fit_bottom_parabola(self):\n",
    "        # Get bottom segment (include only inliers)\n",
    "        bottom_seg = self.mask[round(disc_y):,:]\n",
    "        bottom_coords = vessel_pixel_coordinates(bottom_seg)\n",
    "        bottom_inliers = self.full_parabola.inlier_mask_[-len(bottom_coords):]\n",
    "        self.bottom_seg_inliers = bottom_seg.copy()\n",
    "        self.bottom_seg_inliers[self.bottom_seg_inliers > 0] = bottom_seg[bottom_seg > 0] * np.uint8(bottom_inliers)\n",
    "        # Vertically flip it and combine it with the original bottom segment \n",
    "        bottom_seg_flipped = cv.flip(self.bottom_seg_inliers, 0)\n",
    "        self.bottom_mask = np.concatenate((bottom_seg_flipped, self.bottom_seg_inliers))\n",
    "        # Get the coordinates of the inliers\n",
    "        coords = vessel_pixel_coordinates(self.bottom_mask)\n",
    "        y_offset = disc_y - self.bottom_mask.shape[0]/2\n",
    "        x_bottom = coords[:,0]\n",
    "        y_bottom = coords[:,1] + y_offset\n",
    "        # Fit bottom segment \n",
    "        self.parabola_bottom = parabola(self.vertex_x, self.bottom_mask.shape[0]/2 + y_offset)\n",
    "        self.coef_bottom = self.parabola_bottom.fit(y_bottom, x_bottom)\n",
    "\n",
    "    def display_full_parabola(self, mark_vertex=True):\n",
    "        # Get predictions\n",
    "        y_input = np.arange(0, ransac.mask.shape[0])\n",
    "        y_input = y_input.reshape((-1,1))\n",
    "        y_input_trans = self.quadratic.fit_transform(y_input)\n",
    "        self.x_predicted = self.full_parabola.predict(y_input_trans)\n",
    "        # Plot\n",
    "        show_boolean = (self.x_predicted <= self.mask.shape[1]) & (self.x_predicted > 0)\n",
    "        plt.plot(self.x_predicted[show_boolean], y_input.reshape((-1,1))[show_boolean], '--', color='red') \n",
    "        plt.plot(self.x[self.full_parabola.inlier_mask_], self.y[self.full_parabola.inlier_mask_], '.', markersize=1.5, color='red')\n",
    "        plt.plot(self.x[~self.full_parabola.inlier_mask_], self.y[~self.full_parabola.inlier_mask_], '.', markersize=1.5, color='green')         \n",
    "        if mark_vertex:\n",
    "            plt.scatter(self.vertex_x, self.vertex_y, marker=\"x\", color=\"orange\", s=100)        \n",
    "        \n",
    "    def display_top_parabola(self):\n",
    "        # Get predictions\n",
    "        y_top_input = np.arange(0, round(disc_y), 1)\n",
    "        self.x_top_predicted = self.parabola_top.predict(y_top_input)\n",
    "        # Plot\n",
    "        show_boolean = (self.x_top_predicted <= self.top_mask.shape[1]) & (self.x_top_predicted > 0)\n",
    "        plt.plot(self.x_top_predicted[show_boolean], y_top_input[show_boolean], '--', color='orange')  \n",
    "        \n",
    "    def display_bottom_parabola(self):\n",
    "        # Get predictions\n",
    "        y_bottom_input = np.arange(round(disc_y), self.mask.shape[0], 1)\n",
    "        self.x_bottom_predicted = self.parabola_bottom.predict(y_bottom_input) \n",
    "        # Plot\n",
    "        show_boolean = (self.x_bottom_predicted <= self.bottom_mask.shape[1]) & (self.x_bottom_predicted > 0)\n",
    "        plt.plot(self.x_bottom_predicted[show_boolean], y_bottom_input[show_boolean], '--', color='orange')      \n",
    "        \n",
    "    def get_parabola_vertex(self, b, c, concavity):\n",
    "        # vertex point of the predicted parabola\n",
    "        vertex_y = -b / (2*concavity)\n",
    "        vertex_x = concavity*vertex_y**2 + b*vertex_y + c\n",
    "        return vertex_x, vertex_y   "
   ]
  },
  {
   "cell_type": "code",
   "execution_count": 1565,
   "id": "cd5b129d",
   "metadata": {},
   "outputs": [
    {
     "ename": "ValueError",
     "evalue": "cannot convert float NaN to integer",
     "output_type": "error",
     "traceback": [
      "\u001b[0;31m---------------------------------------------------------------------------\u001b[0m",
      "\u001b[0;31mValueError\u001b[0m                                Traceback (most recent call last)",
      "Input \u001b[0;32mIn [1565]\u001b[0m, in \u001b[0;36m<cell line: 3>\u001b[0;34m()\u001b[0m\n\u001b[1;32m      1\u001b[0m ransac \u001b[38;5;241m=\u001b[39m RANSAC(skeleton)\n\u001b[1;32m      2\u001b[0m ransac\u001b[38;5;241m.\u001b[39mfit_full_parabola()\n\u001b[0;32m----> 3\u001b[0m \u001b[43mransac\u001b[49m\u001b[38;5;241;43m.\u001b[39;49m\u001b[43mfit_top_parabola\u001b[49m\u001b[43m(\u001b[49m\u001b[43m)\u001b[49m\n\u001b[1;32m      4\u001b[0m ransac\u001b[38;5;241m.\u001b[39mfit_bottom_parabola()\n\u001b[1;32m      5\u001b[0m plt\u001b[38;5;241m.\u001b[39mimshow(skeleton, cmap\u001b[38;5;241m=\u001b[39m\u001b[38;5;124m'\u001b[39m\u001b[38;5;124mgray\u001b[39m\u001b[38;5;124m'\u001b[39m)\n",
      "Input \u001b[0;32mIn [1564]\u001b[0m, in \u001b[0;36mRANSAC.fit_top_parabola\u001b[0;34m(self)\u001b[0m\n\u001b[1;32m     40\u001b[0m \u001b[38;5;28;01mdef\u001b[39;00m \u001b[38;5;21mfit_top_parabola\u001b[39m(\u001b[38;5;28mself\u001b[39m):\n\u001b[1;32m     41\u001b[0m     \u001b[38;5;66;03m# Get top segment (include only inliers)\u001b[39;00m\n\u001b[0;32m---> 42\u001b[0m     top_seg \u001b[38;5;241m=\u001b[39m \u001b[38;5;28mself\u001b[39m\u001b[38;5;241m.\u001b[39mmask[\u001b[38;5;241m0\u001b[39m:\u001b[38;5;28;43mround\u001b[39;49m\u001b[43m(\u001b[49m\u001b[43mdisc_y\u001b[49m\u001b[43m)\u001b[49m,:]\n\u001b[1;32m     43\u001b[0m     top_coords \u001b[38;5;241m=\u001b[39m vessel_pixel_coordinates(top_seg)\n\u001b[1;32m     44\u001b[0m     top_inliers \u001b[38;5;241m=\u001b[39m \u001b[38;5;28mself\u001b[39m\u001b[38;5;241m.\u001b[39mfull_parabola\u001b[38;5;241m.\u001b[39minlier_mask_[\u001b[38;5;241m0\u001b[39m:\u001b[38;5;28mlen\u001b[39m(top_coords)]\n",
      "\u001b[0;31mValueError\u001b[0m: cannot convert float NaN to integer"
     ]
    }
   ],
   "source": [
    "ransac = RANSAC(skeleton)\n",
    "ransac.fit_full_parabola()\n",
    "ransac.fit_top_parabola()\n",
    "ransac.fit_bottom_parabola()\n",
    "plt.imshow(skeleton, cmap='gray')\n",
    "ransac.display_full_parabola(True)\n",
    "# ransac.display_top_parabola()\n",
    "# ransac.display_bottom_parabola()\n",
    "plt.axis('off')\n",
    "plt.scatter(ransac.vertex_x, disc_y)\n",
    "plt.savefig('fit.png')\n",
    "plt.show()"
   ]
  },
  {
   "cell_type": "code",
   "execution_count": null,
   "id": "6457eb00",
   "metadata": {},
   "outputs": [],
   "source": []
  },
  {
   "cell_type": "code",
   "execution_count": null,
   "id": "7b465181",
   "metadata": {},
   "outputs": [],
   "source": []
  },
  {
   "cell_type": "code",
   "execution_count": null,
   "id": "1cf168ad",
   "metadata": {},
   "outputs": [],
   "source": []
  },
  {
   "cell_type": "code",
   "execution_count": null,
   "id": "94e2cb2f",
   "metadata": {},
   "outputs": [],
   "source": []
  },
  {
   "cell_type": "code",
   "execution_count": null,
   "id": "e49c9525",
   "metadata": {},
   "outputs": [],
   "source": [
    "   "
   ]
  },
  {
   "cell_type": "code",
   "execution_count": null,
   "id": "78242acd",
   "metadata": {},
   "outputs": [],
   "source": []
  },
  {
   "cell_type": "code",
   "execution_count": null,
   "id": "5f716120",
   "metadata": {},
   "outputs": [],
   "source": []
  },
  {
   "cell_type": "code",
   "execution_count": null,
   "id": "3d17d9be",
   "metadata": {},
   "outputs": [],
   "source": []
  },
  {
   "cell_type": "code",
   "execution_count": null,
   "id": "f1596b8a",
   "metadata": {},
   "outputs": [],
   "source": []
  },
  {
   "cell_type": "code",
   "execution_count": null,
   "id": "f70523bf",
   "metadata": {},
   "outputs": [],
   "source": []
  },
  {
   "cell_type": "code",
   "execution_count": null,
   "id": "5f52e54b",
   "metadata": {},
   "outputs": [],
   "source": []
  }
 ],
 "metadata": {
  "kernelspec": {
   "display_name": "Python 3 (ipykernel)",
   "language": "python",
   "name": "python3"
  },
  "language_info": {
   "codemirror_mode": {
    "name": "ipython",
    "version": 3
   },
   "file_extension": ".py",
   "mimetype": "text/x-python",
   "name": "python",
   "nbconvert_exporter": "python",
   "pygments_lexer": "ipython3",
   "version": "3.10.8"
  }
 },
 "nbformat": 4,
 "nbformat_minor": 5
}
